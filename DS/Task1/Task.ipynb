{
 "cells": [
  {
   "cell_type": "markdown",
   "id": "7b1b9ff9",
   "metadata": {},
   "source": [
    "Task 1: Handling Missing Values\n",
    "●\tDataset: Titanic - Machine Learning from Disaster\n",
    "\n",
    "●\tTask: Identify missing values, decide whether to fill (mean/median/mode) or drop, and justify your choice.\n"
   ]
  },
  {
   "cell_type": "code",
   "execution_count": null,
   "id": "b980e04e",
   "metadata": {},
   "outputs": [],
   "source": []
  }
 ],
 "metadata": {
  "language_info": {
   "name": "python"
  }
 },
 "nbformat": 4,
 "nbformat_minor": 5
}
